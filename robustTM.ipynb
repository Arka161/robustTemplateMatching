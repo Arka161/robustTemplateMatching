{
 "cells": [
  {
   "cell_type": "code",
   "execution_count": 1,
   "metadata": {
    "collapsed": true
   },
   "outputs": [],
   "source": [
    "import torch\n",
    "import torch.nn as nn\n",
    "import torch.nn.functional as F\n",
    "import torchvision\n",
    "from torchvision import models, transforms, utils\n",
    "import cv2\n",
    "import numpy as np\n",
    "import matplotlib.pyplot as plt\n",
    "%matplotlib inline"
   ]
  },
  {
   "cell_type": "code",
   "execution_count": 31,
   "metadata": {
    "collapsed": false
   },
   "outputs": [],
   "source": [
    "raw_image = cv2.imread(\"sample.png\")[..., ::-1]\n",
    "image = transforms.Compose([\n",
    "        transforms.ToTensor(),\n",
    "        transforms.Normalize(\n",
    "            mean=[0.485, 0.456, 0.406],\n",
    "            std=[0.229, 0.224, 0.225],\n",
    "        )\n",
    "])(raw_image.copy()).unsqueeze(0)"
   ]
  },
  {
   "cell_type": "code",
   "execution_count": 32,
   "metadata": {
    "collapsed": false
   },
   "outputs": [
    {
     "data": {
      "text/plain": [
       "torch.Size([1, 3, 495, 835])"
      ]
     },
     "execution_count": 32,
     "metadata": {},
     "output_type": "execute_result"
    }
   ],
   "source": [
    "image.shape"
   ]
  },
  {
   "cell_type": "code",
   "execution_count": 33,
   "metadata": {
    "collapsed": false
   },
   "outputs": [
    {
     "data": {
      "text/plain": [
       "<matplotlib.image.AxesImage at 0x1298bf518>"
      ]
     },
     "execution_count": 33,
     "metadata": {},
     "output_type": "execute_result"
    },
    {
     "data": {
      "image/png": "[encoded data removed]",
      "text/plain": [
       "<matplotlib.figure.Figure at 0x1287cfba8>"
      ]
     },
     "metadata": {},
     "output_type": "display_data"
    }
   ],
   "source": [
    "plt.imshow(raw_image)"
   ]
  },
  {
   "cell_type": "code",
   "execution_count": 71,
   "metadata": {
    "collapsed": false
   },
   "outputs": [],
   "source": [
    "#raw_template = raw_image[20:100, 570:650,:]\n",
    "raw_template = raw_image[100:170, 220:330, :]\n",
    "#raw_template = cv2.resize(raw_template, dsize=None, fx=0.7, fy=0.7)"
   ]
  },
  {
   "cell_type": "code",
   "execution_count": 113,
   "metadata": {
    "collapsed": false
   },
   "outputs": [
    {
     "data": {
      "text/plain": [
       "275.0"
      ]
     },
     "execution_count": 113,
     "metadata": {},
     "output_type": "execute_result"
    }
   ],
   "source": [
    "(220+330)/2"
   ]
  },
  {
   "cell_type": "code",
   "execution_count": 72,
   "metadata": {
    "collapsed": false
   },
   "outputs": [
    {
     "data": {
      "text/plain": [
       "(70, 110, 3)"
      ]
     },
     "execution_count": 72,
     "metadata": {},
     "output_type": "execute_result"
    }
   ],
   "source": [
    "raw_template.shape"
   ]
  },
  {
   "cell_type": "code",
   "execution_count": 73,
   "metadata": {
    "collapsed": false
   },
   "outputs": [
    {
     "data": {
      "text/plain": [
       "<matplotlib.image.AxesImage at 0x12bf74f60>"
      ]
     },
     "execution_count": 73,
     "metadata": {},
     "output_type": "execute_result"
    },
    {
     "data": {
      "image/png": "[encoded data removed]",
      "text/plain": [
       "<matplotlib.figure.Figure at 0x12da3a630>"
      ]
     },
     "metadata": {},
     "output_type": "display_data"
    }
   ],
   "source": [
    "plt.imshow(raw_template)"
   ]
  },
  {
   "cell_type": "code",
   "execution_count": 74,
   "metadata": {
    "collapsed": true
   },
   "outputs": [],
   "source": [
    "template = transforms.Compose([\n",
    "        transforms.ToTensor(),\n",
    "        transforms.Normalize(\n",
    "            mean=[0.485, 0.456, 0.406],\n",
    "            std=[0.229, 0.224, 0.225],\n",
    "        )\n",
    "])(raw_template.copy()).unsqueeze(0)"
   ]
  },
  {
   "cell_type": "code",
   "execution_count": 139,
   "metadata": {
    "collapsed": true
   },
   "outputs": [],
   "source": [
    "class FeatureExtractor():\n",
    "    def __init__(self, model, use_cuda=True, padding=False):\n",
    "        self.model = model\n",
    "        self.use_cuda = use_cuda\n",
    "        self.feature_maps = []\n",
    "        \n",
    "        if self.use_cuda:\n",
    "            self.model = self.model.cuda()\n",
    "            \n",
    "        self.index = []\n",
    "        self.f = []\n",
    "        self.stride = []\n",
    "        for i, module in enumerate(self.model.children()):\n",
    "            if isinstance(module, nn.Conv2d):\n",
    "                self.index.append(i)\n",
    "                self.f.append(module.kernel_size[0])\n",
    "                self.stride.append(module.stride[0])\n",
    "            if isinstance(module, nn.MaxPool2d):\n",
    "                if padding:\n",
    "                    module.padding = 1\n",
    "                self.index.append(i)\n",
    "                self.f.append(module.kernel_size)\n",
    "                self.stride.append(module.stride)\n",
    "        \n",
    "        self.rf = np.array(self.calc_rf(self.f, self.stride))\n",
    "        \n",
    "    def save_template_feature_map(self, module, input, output):\n",
    "        self.template_feature_map = output.detach()\n",
    "        \n",
    "    def save_image_feature_map(self, module, input, output):\n",
    "        self.image_feature_map = output.detach()\n",
    "                \n",
    "    def calc_rf(self, f, stride):\n",
    "        rf = []\n",
    "        for i in range(len(f)):\n",
    "            if i == 0:\n",
    "                rf.append(3)\n",
    "            else:\n",
    "                rf.append(rf[i-1] + (f[i]-1)*self.product(stride[:i]))\n",
    "        return rf\n",
    "    \n",
    "    def product(self, lis):\n",
    "        if len(lis) == 0:\n",
    "            return 0\n",
    "        else:\n",
    "            res = 1\n",
    "            for x in lis:\n",
    "                res *= x\n",
    "            return res\n",
    "    \n",
    "    def calc_l_star(self, template, k=3):\n",
    "        l = np.sum(self.rf <= min(list(template.size()[-2:]))) - 1\n",
    "        l_star = max(l - k, 1)\n",
    "        return l_star\n",
    "    \n",
    "    def calc_NCC(self, F, M):\n",
    "        h_f, w_f = F.shape[-2:]\n",
    "        NCC = np.zeros((M.shape[-2] - h_f, M.shape[-1] - w_f))\n",
    "        for i in range(M.shape[-2] - h_f):\n",
    "            for j in range(M.shape[-1] - w_f):\n",
    "                M_tilde = M[:,:, i:i+h_f, j:j+w_f]\n",
    "                NCC[i, j] = np.sum((M_tilde * F)/(np.linalg.norm(M_tilde)*np.linalg.norm(F)))\n",
    "        return NCC\n",
    "\n",
    "    def __call__(self, template, image):\n",
    "        if self.use_cuda:\n",
    "            template = template.cuda()\n",
    "            image = image.cuda()\n",
    "            \n",
    "        self.l_star = self.calc_l_star(template)\n",
    "        \n",
    "        template_handle = self.model[self.index[self.l_star]].register_forward_hook(self.save_template_feature_map)\n",
    "        self.model(template)\n",
    "        template_handle.remove()\n",
    "        \n",
    "        image_handle = self.model[self.index[self.l_star]].register_forward_hook(self.save_image_feature_map)\n",
    "        self.model(image)\n",
    "        image_handle.remove()\n",
    "        \n",
    "        if self.use_cuda:\n",
    "            self.template_feature_map.cpu_()\n",
    "            self.image_feature_map.cpu_()\n",
    "            \n",
    "        self.NCC = self.calc_NCC(self.template_feature_map.numpy(), self.image_feature_map.numpy())\n",
    "        i_star, j_star = np.unravel_index(np.argmax(self.NCC), self.NCC.shape)\n",
    "        NCC_part = self.NCC[i_star-1:i_star+2, j_star-2:j_star+2]\n",
    "        \n",
    "        x_center = (j_star + self.template_feature_map.size()[-1]/2) * image.size()[-1] // self.image_feature_map.size()[-1]\n",
    "        y_center = (i_star + self.template_feature_map.size()[-2]/2 )* image.size()[-2] // self.image_feature_map.size()[-2]\n",
    "        \n",
    "        x1_0 = x_center - template.size()[-1]/2\n",
    "        x2_0 = x_center + template.size()[-1]/2\n",
    "        y1_0 = y_center - template.size()[-2]/2\n",
    "        y2_0 = y_center + template.size()[-2]/2\n",
    "        \n",
    "        stride_product = self.product(self.stride[:self.l_star])\n",
    "        \n",
    "        x1 = np.sum(NCC_part * (x1_0 + np.array([-2, -1, 0, 1]) *  stride_product)[None, :]) / np.sum(NCC_part)\n",
    "        x2 = np.sum(NCC_part * (x2_0 + np.array([-2, -1, 0, 1]) *  stride_product)[None, :]) / np.sum(NCC_part)\n",
    "        y1 = np.sum(NCC_part * (y1_0 + np.array([-1, 0, 1]) * stride_product)[:, None]) / np.sum(NCC_part)\n",
    "        y2 = np.sum(NCC_part * (y2_0 + np.array([-1, 0, 1]) * stride_product)[:, None]) / np.sum(NCC_part)\n",
    "        \n",
    "        x1 = int(round(x1))\n",
    "        x2 = int(round(x2))\n",
    "        y1 = int(round(y1))\n",
    "        y2 = int(round(y2))\n",
    "        x_center = int(round(x_center))\n",
    "        y_center = int(round(y_center))\n",
    "\n",
    "        return (x1, y1), (x2, y2), (x_center, y_center)"
   ]
  },
  {
   "cell_type": "code",
   "execution_count": 130,
   "metadata": {
    "collapsed": true
   },
   "outputs": [],
   "source": [
    "FE = FeatureExtractor(models.vgg13(pretrained=True).features, use_cuda=False)"
   ]
  },
  {
   "cell_type": "code",
   "execution_count": 131,
   "metadata": {
    "collapsed": false
   },
   "outputs": [],
   "source": [
    "(x1, y1), (x2, y2), (x_center, y_center) = FE(template, image)"
   ]
  },
  {
   "cell_type": "code",
   "execution_count": 132,
   "metadata": {
    "collapsed": false
   },
   "outputs": [
    {
     "data": {
      "text/plain": [
       "<matplotlib.image.AxesImage at 0x12e7e92b0>"
      ]
     },
     "execution_count": 132,
     "metadata": {},
     "output_type": "execute_result"
    },
    {
     "data": {
      "image/png": "[encoded data removed]",
      "text/plain": [
       "<matplotlib.figure.Figure at 0x12dbf8cc0>"
      ]
     },
     "metadata": {},
     "output_type": "display_data"
    }
   ],
   "source": [
    "d_img = cv2.rectangle(raw_image.astype(np.uint8), (x1, y1), (x2, y2), (255,0,0), 3)\n",
    "d_img = cv2.circle(d_img, (int(x_center), int(y_center)), 15, (0,0,255), 3)\n",
    "plt.imshow(d_img)"
   ]
  },
  {
   "cell_type": "code",
   "execution_count": 133,
   "metadata": {
    "collapsed": false
   },
   "outputs": [
    {
     "data": {
      "text/plain": [
       "(274.0, 134.0)"
      ]
     },
     "execution_count": 133,
     "metadata": {},
     "output_type": "execute_result"
    }
   ],
   "source": [
    "x_center, y_center"
   ]
  },
  {
   "cell_type": "code",
   "execution_count": 134,
   "metadata": {
    "collapsed": false
   },
   "outputs": [
    {
     "data": {
      "text/plain": [
       "(218, 99)"
      ]
     },
     "execution_count": 134,
     "metadata": {},
     "output_type": "execute_result"
    }
   ],
   "source": [
    "x1, y1"
   ]
  },
  {
   "cell_type": "code",
   "execution_count": 135,
   "metadata": {
    "collapsed": false
   },
   "outputs": [
    {
     "data": {
      "text/plain": [
       "(328, 169)"
      ]
     },
     "execution_count": 135,
     "metadata": {},
     "output_type": "execute_result"
    }
   ],
   "source": [
    "x2, y2"
   ]
  },
  {
   "cell_type": "code",
   "execution_count": 136,
   "metadata": {
    "collapsed": false
   },
   "outputs": [
    {
     "data": {
      "text/plain": [
       "273.0"
      ]
     },
     "execution_count": 136,
     "metadata": {},
     "output_type": "execute_result"
    }
   ],
   "source": [
    "(x1 + x2)/2"
   ]
  },
  {
   "cell_type": "code",
   "execution_count": 137,
   "metadata": {
    "collapsed": false
   },
   "outputs": [
    {
     "data": {
      "text/plain": [
       "134.0"
      ]
     },
     "execution_count": 137,
     "metadata": {},
     "output_type": "execute_result"
    }
   ],
   "source": [
    "(y1 + y2)/2"
   ]
  },
  {
   "cell_type": "code",
   "execution_count": 138,
   "metadata": {
    "collapsed": false
   },
   "outputs": [
    {
     "data": {
      "text/plain": [
       "<matplotlib.image.AxesImage at 0x12f0a33c8>"
      ]
     },
     "execution_count": 138,
     "metadata": {},
     "output_type": "execute_result"
    },
    {
     "data": {
      "image/png": "[encoded data removed]",
      "text/plain": [
       "<matplotlib.figure.Figure at 0x12e7f3128>"
      ]
     },
     "metadata": {},
     "output_type": "display_data"
    }
   ],
   "source": [
    "NCC = FE.NCC / np.max(FE.NCC)\n",
    "plt.imshow(NCC)"
   ]
  },
  {
   "cell_type": "code",
   "execution_count": null,
   "metadata": {
    "collapsed": true
   },
   "outputs": [],
   "source": []
  }
 ],
 "metadata": {
  "kernelspec": {
   "display_name": "Python 3",
   "language": "python",
   "name": "python3"
  },
  "language_info": {
   "codemirror_mode": {
    "name": "ipython",
    "version": 3
   },
   "file_extension": ".py",
   "mimetype": "text/x-python",
   "name": "python",
   "nbconvert_exporter": "python",
   "pygments_lexer": "ipython3",
   "version": "3.6.8"
  }
 },
 "nbformat": 4,
 "nbformat_minor": 2
}
